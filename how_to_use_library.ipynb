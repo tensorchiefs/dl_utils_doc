{
 "cells": [
  {
   "cell_type": "code",
   "execution_count": 1,
   "metadata": {
    "collapsed": false
   },
   "outputs": [
    {
     "name": "stdout",
     "output_type": "stream",
     "text": [
      "Collecting https://github.com/tensorchiefs/dl_utils/archive/master.zip\n",
      "  Downloading https://github.com/tensorchiefs/dl_utils/archive/master.zip\n",
      "\u001b[K     - 10kB 2.6MB/s\n",
      "Installing collected packages: dl-utils\n",
      "  Running setup.py install for dl-utils ... \u001b[?25l-\b \bdone\n",
      "\u001b[?25hSuccessfully installed dl-utils-0.1\n"
     ]
    }
   ],
   "source": [
    "# Install the latest version of the library\n",
    "!pip install --upgrade https://github.com/tensorchiefs/dl_utils/archive/master.zip"
   ]
  },
  {
   "cell_type": "code",
   "execution_count": 2,
   "metadata": {
    "collapsed": false
   },
   "outputs": [
    {
     "name": "stderr",
     "output_type": "stream",
     "text": [
      "/usr/local/Cellar/python3/3.6.1/Frameworks/Python.framework/Versions/3.6/lib/python3.6/importlib/_bootstrap.py:205: RuntimeWarning: compiletime version 3.5 of module 'tensorflow.python.framework.fast_tensor_util' does not match runtime version 3.6\n",
      "  return f(*args, **kwds)\n"
     ]
    }
   ],
   "source": [
    "import dl_utils as dl\n",
    "import numpy as np"
   ]
  },
  {
   "cell_type": "code",
   "execution_count": 3,
   "metadata": {
    "collapsed": false
   },
   "outputs": [
    {
     "name": "stdout",
     "output_type": "stream",
     "text": [
      "(-0.25547707105741402, 0.85472856273936038, 1.0, 6)\n"
     ]
    }
   ],
   "source": [
    "X = np.random.normal(0,1,(200,19))\n",
    "res = dl.get_VI_MAPS(X)\n",
    "print(res)"
   ]
  }
 ],
 "metadata": {
  "kernelspec": {
   "display_name": "Python 3",
   "language": "python",
   "name": "python3"
  },
  "language_info": {
   "codemirror_mode": {
    "name": "ipython",
    "version": 3
   },
   "file_extension": ".py",
   "mimetype": "text/x-python",
   "name": "python",
   "nbconvert_exporter": "python",
   "pygments_lexer": "ipython3",
   "version": "3.6.1"
  }
 },
 "nbformat": 4,
 "nbformat_minor": 1
}
